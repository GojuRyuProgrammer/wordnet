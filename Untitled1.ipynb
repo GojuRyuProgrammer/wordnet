{
  "nbformat": 4,
  "nbformat_minor": 0,
  "metadata": {
    "colab": {
      "provenance": [],
      "authorship_tag": "ABX9TyOcny6YjR83FOst162sxyfa",
      "include_colab_link": true
    },
    "kernelspec": {
      "name": "python3",
      "display_name": "Python 3"
    },
    "language_info": {
      "name": "python"
    }
  },
  "cells": [
    {
      "cell_type": "markdown",
      "metadata": {
        "id": "view-in-github",
        "colab_type": "text"
      },
      "source": [
        "<a href=\"https://colab.research.google.com/github/GojuRyuProgrammer/wordnet/blob/main/Untitled1.ipynb\" target=\"_parent\"><img src=\"https://colab.research.google.com/assets/colab-badge.svg\" alt=\"Open In Colab\"/></a>"
      ]
    },
    {
      "cell_type": "code",
      "execution_count": 6,
      "metadata": {
        "id": "PxLq-j-LpFCp",
        "colab": {
          "base_uri": "https://localhost:8080/"
        },
        "outputId": "2ca681f1-7a56-4b5b-a416-facbdebca2ba"
      },
      "outputs": [
        {
          "output_type": "stream",
          "name": "stderr",
          "text": [
            "[nltk_data] Downloading package wordnet to /root/nltk_data...\n",
            "[nltk_data]   Package wordnet is already up-to-date!\n"
          ]
        },
        {
          "output_type": "execute_result",
          "data": {
            "text/plain": [
              "True"
            ]
          },
          "metadata": {},
          "execution_count": 6
        }
      ],
      "source": [
        "import nltk\n",
        "nltk.download('wordnet')"
      ]
    },
    {
      "cell_type": "code",
      "source": [
        "from nltk.corpus import wordnet\n",
        "syn = wordnet.synsets('courageous')\n",
        "print(\"Happy wordnet:/n\")\n",
        "print(syn[0].name())\n",
        "print(syn[0].lemmas())\n",
        "print(syn[0].definition())\n",
        "print(syn[0].examples(),\"/n####################\")"
      ],
      "metadata": {
        "colab": {
          "base_uri": "https://localhost:8080/"
        },
        "id": "twSO84WisHSZ",
        "outputId": "d31646c9-f8c5-41a3-9170-998d462f3efc"
      },
      "execution_count": 10,
      "outputs": [
        {
          "output_type": "stream",
          "name": "stdout",
          "text": [
            "Happy wordnet:/n\n",
            "brave.a.01\n",
            "[Lemma('brave.a.01.brave'), Lemma('brave.a.01.courageous')]\n",
            "possessing or displaying courage; able to face and deal with danger or fear without flinching; - Herman Melville; - William Wordsworth\n",
            "['Familiarity with danger makes a brave man braver but less daring', 'a frank courageous heart...triumphed over pain', 'set a courageous example by leading them safely into and out of enemy-held territory'] /n####################\n"
          ]
        }
      ]
    },
    {
      "cell_type": "code",
      "source": [
        "synonyms = []\n",
        "antonyms = []\n",
        "for s in wordnet.synsets('courageous'):\n",
        "  for l in s.lemmas():\n",
        "    synonyms.append(l.name())\n",
        "    if l.antonyms():\n",
        "      antonyms.append(l.antonyms()[0].name())\n",
        "\n",
        "print(\"synonyms of nice = \",set(synonyms))\n",
        "print(\"antonyms of nice = \",set(antonyms))"
      ],
      "metadata": {
        "colab": {
          "base_uri": "https://localhost:8080/"
        },
        "id": "uG_179PDLWZZ",
        "outputId": "d2671e0b-b963-457c-a6c0-594ff5acb9b0"
      },
      "execution_count": 11,
      "outputs": [
        {
          "output_type": "stream",
          "name": "stdout",
          "text": [
            "synonyms of nice =  {'courageous', 'brave'}\n",
            "antonyms of nice =  {'cowardly'}\n"
          ]
        }
      ]
    },
    {
      "cell_type": "code",
      "source": [],
      "metadata": {
        "id": "t9c4wehPSzSe"
      },
      "execution_count": null,
      "outputs": []
    }
  ]
}